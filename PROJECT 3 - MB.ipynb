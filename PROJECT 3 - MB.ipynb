{
 "cells": [
  {
   "cell_type": "code",
   "execution_count": 1,
   "id": "9c339c8a",
   "metadata": {},
   "outputs": [
    {
     "ename": "FileNotFoundError",
     "evalue": "[Errno 2] No such file or directory: 'project3_dataset.csv'",
     "output_type": "error",
     "traceback": [
      "\u001b[0;31m---------------------------------------------------------------------------\u001b[0m",
      "\u001b[0;31mFileNotFoundError\u001b[0m                         Traceback (most recent call last)",
      "Cell \u001b[0;32mIn[1], line 5\u001b[0m\n\u001b[1;32m      2\u001b[0m \u001b[38;5;28;01mimport\u001b[39;00m \u001b[38;5;21;01mmatplotlib\u001b[39;00m\u001b[38;5;21;01m.\u001b[39;00m\u001b[38;5;21;01mpyplot\u001b[39;00m \u001b[38;5;28;01mas\u001b[39;00m \u001b[38;5;21;01mplt\u001b[39;00m\n\u001b[1;32m      3\u001b[0m \u001b[38;5;28;01mimport\u001b[39;00m \u001b[38;5;21;01mnumpy\u001b[39;00m \u001b[38;5;28;01mas\u001b[39;00m \u001b[38;5;21;01mnp\u001b[39;00m\n\u001b[0;32m----> 5\u001b[0m df \u001b[38;5;241m=\u001b[39m pd\u001b[38;5;241m.\u001b[39mread_csv(\u001b[38;5;124m'\u001b[39m\u001b[38;5;124mproject3_dataset.csv\u001b[39m\u001b[38;5;124m'\u001b[39m)\n\u001b[1;32m      7\u001b[0m \u001b[38;5;66;03m# Display my DataFrame\u001b[39;00m\n\u001b[1;32m      8\u001b[0m df\u001b[38;5;241m.\u001b[39mhead()\n",
      "File \u001b[0;32m~/anaconda3/lib/python3.11/site-packages/pandas/io/parsers/readers.py:948\u001b[0m, in \u001b[0;36mread_csv\u001b[0;34m(filepath_or_buffer, sep, delimiter, header, names, index_col, usecols, dtype, engine, converters, true_values, false_values, skipinitialspace, skiprows, skipfooter, nrows, na_values, keep_default_na, na_filter, verbose, skip_blank_lines, parse_dates, infer_datetime_format, keep_date_col, date_parser, date_format, dayfirst, cache_dates, iterator, chunksize, compression, thousands, decimal, lineterminator, quotechar, quoting, doublequote, escapechar, comment, encoding, encoding_errors, dialect, on_bad_lines, delim_whitespace, low_memory, memory_map, float_precision, storage_options, dtype_backend)\u001b[0m\n\u001b[1;32m    935\u001b[0m kwds_defaults \u001b[38;5;241m=\u001b[39m _refine_defaults_read(\n\u001b[1;32m    936\u001b[0m     dialect,\n\u001b[1;32m    937\u001b[0m     delimiter,\n\u001b[0;32m   (...)\u001b[0m\n\u001b[1;32m    944\u001b[0m     dtype_backend\u001b[38;5;241m=\u001b[39mdtype_backend,\n\u001b[1;32m    945\u001b[0m )\n\u001b[1;32m    946\u001b[0m kwds\u001b[38;5;241m.\u001b[39mupdate(kwds_defaults)\n\u001b[0;32m--> 948\u001b[0m \u001b[38;5;28;01mreturn\u001b[39;00m _read(filepath_or_buffer, kwds)\n",
      "File \u001b[0;32m~/anaconda3/lib/python3.11/site-packages/pandas/io/parsers/readers.py:611\u001b[0m, in \u001b[0;36m_read\u001b[0;34m(filepath_or_buffer, kwds)\u001b[0m\n\u001b[1;32m    608\u001b[0m _validate_names(kwds\u001b[38;5;241m.\u001b[39mget(\u001b[38;5;124m\"\u001b[39m\u001b[38;5;124mnames\u001b[39m\u001b[38;5;124m\"\u001b[39m, \u001b[38;5;28;01mNone\u001b[39;00m))\n\u001b[1;32m    610\u001b[0m \u001b[38;5;66;03m# Create the parser.\u001b[39;00m\n\u001b[0;32m--> 611\u001b[0m parser \u001b[38;5;241m=\u001b[39m TextFileReader(filepath_or_buffer, \u001b[38;5;241m*\u001b[39m\u001b[38;5;241m*\u001b[39mkwds)\n\u001b[1;32m    613\u001b[0m \u001b[38;5;28;01mif\u001b[39;00m chunksize \u001b[38;5;129;01mor\u001b[39;00m iterator:\n\u001b[1;32m    614\u001b[0m     \u001b[38;5;28;01mreturn\u001b[39;00m parser\n",
      "File \u001b[0;32m~/anaconda3/lib/python3.11/site-packages/pandas/io/parsers/readers.py:1448\u001b[0m, in \u001b[0;36mTextFileReader.__init__\u001b[0;34m(self, f, engine, **kwds)\u001b[0m\n\u001b[1;32m   1445\u001b[0m     \u001b[38;5;28mself\u001b[39m\u001b[38;5;241m.\u001b[39moptions[\u001b[38;5;124m\"\u001b[39m\u001b[38;5;124mhas_index_names\u001b[39m\u001b[38;5;124m\"\u001b[39m] \u001b[38;5;241m=\u001b[39m kwds[\u001b[38;5;124m\"\u001b[39m\u001b[38;5;124mhas_index_names\u001b[39m\u001b[38;5;124m\"\u001b[39m]\n\u001b[1;32m   1447\u001b[0m \u001b[38;5;28mself\u001b[39m\u001b[38;5;241m.\u001b[39mhandles: IOHandles \u001b[38;5;241m|\u001b[39m \u001b[38;5;28;01mNone\u001b[39;00m \u001b[38;5;241m=\u001b[39m \u001b[38;5;28;01mNone\u001b[39;00m\n\u001b[0;32m-> 1448\u001b[0m \u001b[38;5;28mself\u001b[39m\u001b[38;5;241m.\u001b[39m_engine \u001b[38;5;241m=\u001b[39m \u001b[38;5;28mself\u001b[39m\u001b[38;5;241m.\u001b[39m_make_engine(f, \u001b[38;5;28mself\u001b[39m\u001b[38;5;241m.\u001b[39mengine)\n",
      "File \u001b[0;32m~/anaconda3/lib/python3.11/site-packages/pandas/io/parsers/readers.py:1705\u001b[0m, in \u001b[0;36mTextFileReader._make_engine\u001b[0;34m(self, f, engine)\u001b[0m\n\u001b[1;32m   1703\u001b[0m     \u001b[38;5;28;01mif\u001b[39;00m \u001b[38;5;124m\"\u001b[39m\u001b[38;5;124mb\u001b[39m\u001b[38;5;124m\"\u001b[39m \u001b[38;5;129;01mnot\u001b[39;00m \u001b[38;5;129;01min\u001b[39;00m mode:\n\u001b[1;32m   1704\u001b[0m         mode \u001b[38;5;241m+\u001b[39m\u001b[38;5;241m=\u001b[39m \u001b[38;5;124m\"\u001b[39m\u001b[38;5;124mb\u001b[39m\u001b[38;5;124m\"\u001b[39m\n\u001b[0;32m-> 1705\u001b[0m \u001b[38;5;28mself\u001b[39m\u001b[38;5;241m.\u001b[39mhandles \u001b[38;5;241m=\u001b[39m get_handle(\n\u001b[1;32m   1706\u001b[0m     f,\n\u001b[1;32m   1707\u001b[0m     mode,\n\u001b[1;32m   1708\u001b[0m     encoding\u001b[38;5;241m=\u001b[39m\u001b[38;5;28mself\u001b[39m\u001b[38;5;241m.\u001b[39moptions\u001b[38;5;241m.\u001b[39mget(\u001b[38;5;124m\"\u001b[39m\u001b[38;5;124mencoding\u001b[39m\u001b[38;5;124m\"\u001b[39m, \u001b[38;5;28;01mNone\u001b[39;00m),\n\u001b[1;32m   1709\u001b[0m     compression\u001b[38;5;241m=\u001b[39m\u001b[38;5;28mself\u001b[39m\u001b[38;5;241m.\u001b[39moptions\u001b[38;5;241m.\u001b[39mget(\u001b[38;5;124m\"\u001b[39m\u001b[38;5;124mcompression\u001b[39m\u001b[38;5;124m\"\u001b[39m, \u001b[38;5;28;01mNone\u001b[39;00m),\n\u001b[1;32m   1710\u001b[0m     memory_map\u001b[38;5;241m=\u001b[39m\u001b[38;5;28mself\u001b[39m\u001b[38;5;241m.\u001b[39moptions\u001b[38;5;241m.\u001b[39mget(\u001b[38;5;124m\"\u001b[39m\u001b[38;5;124mmemory_map\u001b[39m\u001b[38;5;124m\"\u001b[39m, \u001b[38;5;28;01mFalse\u001b[39;00m),\n\u001b[1;32m   1711\u001b[0m     is_text\u001b[38;5;241m=\u001b[39mis_text,\n\u001b[1;32m   1712\u001b[0m     errors\u001b[38;5;241m=\u001b[39m\u001b[38;5;28mself\u001b[39m\u001b[38;5;241m.\u001b[39moptions\u001b[38;5;241m.\u001b[39mget(\u001b[38;5;124m\"\u001b[39m\u001b[38;5;124mencoding_errors\u001b[39m\u001b[38;5;124m\"\u001b[39m, \u001b[38;5;124m\"\u001b[39m\u001b[38;5;124mstrict\u001b[39m\u001b[38;5;124m\"\u001b[39m),\n\u001b[1;32m   1713\u001b[0m     storage_options\u001b[38;5;241m=\u001b[39m\u001b[38;5;28mself\u001b[39m\u001b[38;5;241m.\u001b[39moptions\u001b[38;5;241m.\u001b[39mget(\u001b[38;5;124m\"\u001b[39m\u001b[38;5;124mstorage_options\u001b[39m\u001b[38;5;124m\"\u001b[39m, \u001b[38;5;28;01mNone\u001b[39;00m),\n\u001b[1;32m   1714\u001b[0m )\n\u001b[1;32m   1715\u001b[0m \u001b[38;5;28;01massert\u001b[39;00m \u001b[38;5;28mself\u001b[39m\u001b[38;5;241m.\u001b[39mhandles \u001b[38;5;129;01mis\u001b[39;00m \u001b[38;5;129;01mnot\u001b[39;00m \u001b[38;5;28;01mNone\u001b[39;00m\n\u001b[1;32m   1716\u001b[0m f \u001b[38;5;241m=\u001b[39m \u001b[38;5;28mself\u001b[39m\u001b[38;5;241m.\u001b[39mhandles\u001b[38;5;241m.\u001b[39mhandle\n",
      "File \u001b[0;32m~/anaconda3/lib/python3.11/site-packages/pandas/io/common.py:863\u001b[0m, in \u001b[0;36mget_handle\u001b[0;34m(path_or_buf, mode, encoding, compression, memory_map, is_text, errors, storage_options)\u001b[0m\n\u001b[1;32m    858\u001b[0m \u001b[38;5;28;01melif\u001b[39;00m \u001b[38;5;28misinstance\u001b[39m(handle, \u001b[38;5;28mstr\u001b[39m):\n\u001b[1;32m    859\u001b[0m     \u001b[38;5;66;03m# Check whether the filename is to be opened in binary mode.\u001b[39;00m\n\u001b[1;32m    860\u001b[0m     \u001b[38;5;66;03m# Binary mode does not support 'encoding' and 'newline'.\u001b[39;00m\n\u001b[1;32m    861\u001b[0m     \u001b[38;5;28;01mif\u001b[39;00m ioargs\u001b[38;5;241m.\u001b[39mencoding \u001b[38;5;129;01mand\u001b[39;00m \u001b[38;5;124m\"\u001b[39m\u001b[38;5;124mb\u001b[39m\u001b[38;5;124m\"\u001b[39m \u001b[38;5;129;01mnot\u001b[39;00m \u001b[38;5;129;01min\u001b[39;00m ioargs\u001b[38;5;241m.\u001b[39mmode:\n\u001b[1;32m    862\u001b[0m         \u001b[38;5;66;03m# Encoding\u001b[39;00m\n\u001b[0;32m--> 863\u001b[0m         handle \u001b[38;5;241m=\u001b[39m \u001b[38;5;28mopen\u001b[39m(\n\u001b[1;32m    864\u001b[0m             handle,\n\u001b[1;32m    865\u001b[0m             ioargs\u001b[38;5;241m.\u001b[39mmode,\n\u001b[1;32m    866\u001b[0m             encoding\u001b[38;5;241m=\u001b[39mioargs\u001b[38;5;241m.\u001b[39mencoding,\n\u001b[1;32m    867\u001b[0m             errors\u001b[38;5;241m=\u001b[39merrors,\n\u001b[1;32m    868\u001b[0m             newline\u001b[38;5;241m=\u001b[39m\u001b[38;5;124m\"\u001b[39m\u001b[38;5;124m\"\u001b[39m,\n\u001b[1;32m    869\u001b[0m         )\n\u001b[1;32m    870\u001b[0m     \u001b[38;5;28;01melse\u001b[39;00m:\n\u001b[1;32m    871\u001b[0m         \u001b[38;5;66;03m# Binary mode\u001b[39;00m\n\u001b[1;32m    872\u001b[0m         handle \u001b[38;5;241m=\u001b[39m \u001b[38;5;28mopen\u001b[39m(handle, ioargs\u001b[38;5;241m.\u001b[39mmode)\n",
      "\u001b[0;31mFileNotFoundError\u001b[0m: [Errno 2] No such file or directory: 'project3_dataset.csv'"
     ]
    }
   ],
   "source": [
    "import pandas as pd\n",
    "import matplotlib.pyplot as plt\n",
    "import numpy as np\n",
    "\n",
    "df = pd.read_csv('project3_dataset.csv')\n",
    "\n",
    "# Display my DataFrame\n",
    "df.head()\n",
    "\n"
   ]
  },
  {
   "cell_type": "code",
   "execution_count": null,
   "id": "9cff33f4",
   "metadata": {},
   "outputs": [],
   "source": [
    "# Check for missing values in each column\n",
    "missing_values = df.isnull().any()\n",
    "\n",
    "# Print columns with missing values\n",
    "print(missing_values[missing_values == True])"
   ]
  },
  {
   "cell_type": "code",
   "execution_count": null,
   "id": "f3417ff8",
   "metadata": {},
   "outputs": [],
   "source": [
    "# Rename columns\n",
    "df = df.rename(columns={'Age ': 'Age', 'Occupation ': 'Occupation'})\n",
    "\n",
    "# Now you can check the column names to verify the change\n",
    "print(df.columns)"
   ]
  },
  {
   "cell_type": "code",
   "execution_count": null,
   "id": "8296b2c6",
   "metadata": {},
   "outputs": [],
   "source": [
    "#List all my columns \n",
    "print(df.columns)"
   ]
  },
  {
   "cell_type": "code",
   "execution_count": null,
   "id": "9dda703f",
   "metadata": {},
   "outputs": [],
   "source": [
    "# Create a list of all unique social media platforms\n",
    "all_platforms = set()\n",
    "for platforms in df['SocialMediaPlatforms'].str.split(', '):\n",
    "    all_platforms.update(platforms)\n",
    "\n",
    "# Create new binary columns for each platform\n",
    "for platform in all_platforms:\n",
    "    df[platform] = df['SocialMediaPlatforms'].str.contains(platform).astype(int)"
   ]
  },
  {
   "cell_type": "code",
   "execution_count": null,
   "id": "38606595",
   "metadata": {},
   "outputs": [],
   "source": [
    "print(df.columns)"
   ]
  },
  {
   "cell_type": "code",
   "execution_count": null,
   "id": "fd9b6fb6",
   "metadata": {},
   "outputs": [],
   "source": [
    "df.head()"
   ]
  },
  {
   "cell_type": "code",
   "execution_count": null,
   "id": "47e92d79",
   "metadata": {},
   "outputs": [],
   "source": [
    "# Drop duplicate columns\n",
    "df = df.loc[:, ~df.columns.duplicated()]\n",
    "\n",
    "# Display the updated DataFrame Columns\n",
    "print(df.columns)"
   ]
  },
  {
   "cell_type": "code",
   "execution_count": null,
   "id": "b044a0d1",
   "metadata": {},
   "outputs": [],
   "source": [
    "df = df.join(pd.get_dummies(df['HoursSpent']).astype(int))"
   ]
  },
  {
   "cell_type": "code",
   "execution_count": null,
   "id": "3eb2af2e",
   "metadata": {},
   "outputs": [],
   "source": [
    "# Rename columns\n",
    "df = df.rename(columns={'Less than 2 ': 'Less than 2hrs', '2 to 5': '2 to 5 hrs', 'More than 5 ' : 'More than 5 hrs'})"
   ]
  },
  {
   "cell_type": "code",
   "execution_count": null,
   "id": "962a844a",
   "metadata": {},
   "outputs": [],
   "source": [
    "print(df.columns)"
   ]
  },
  {
   "cell_type": "code",
   "execution_count": null,
   "id": "a3156375",
   "metadata": {},
   "outputs": [],
   "source": [
    "df.head()"
   ]
  },
  {
   "cell_type": "markdown",
   "id": "76bbf0a7",
   "metadata": {},
   "source": [
    "# ANALYSIS\n",
    "## Group the data by Social Media platform and then show relationships for each platform"
   ]
  },
  {
   "cell_type": "markdown",
   "id": "55f4e818",
   "metadata": {},
   "source": [
    "## FACEBOOK "
   ]
  },
  {
   "cell_type": "code",
   "execution_count": null,
   "id": "f049a072",
   "metadata": {},
   "outputs": [],
   "source": [
    "# Filter the original DataFrame for rows where the 'Facebook' column is 1 (indicating Facebook usage)\n",
    "facebook_users = df[df['Facebook'] == 1]\n",
    "\n",
    "# Select only the mental health-related columns along with 'Age' and 'Gender'\n",
    "mental_health_columns = ['Age', 'Gender','Frequency', 'Distraction', 'Restlessness', 'Anxiety',\n",
    "       'ConcentrationDifficulty', 'SelfComparision', 'PostSentiment',\n",
    "       'ValidationSeeking', 'Depression', 'ActivityInterest Variance',\n",
    "       'Sleeplessness']\n",
    "\n",
    "# Create a new DataFrame containing only the Facebook users and the selected columns\n",
    "facebook_mental_health = facebook_users[mental_health_columns]\n",
    "\n",
    "# Display the new DataFrame\n",
    "facebook_mental_health.head()\n"
   ]
  },
  {
   "cell_type": "markdown",
   "id": "b8c0ad26",
   "metadata": {},
   "source": [
    "# Show the Age/Gender of Facebook Users"
   ]
  },
  {
   "cell_type": "code",
   "execution_count": null,
   "id": "dfc32b52",
   "metadata": {
    "scrolled": true
   },
   "outputs": [],
   "source": [
    "# Define the age categories\n",
    "age_bins = [15, 20, 25, 30, 35, 40, 45, 50, 55, 60, float('inf')]\n",
    "age_labels = ['16-20', '21-25', '26-30', '31-35', '36-40', '41-45', '46-50', '51-55', '56-60', '61+']\n",
    "\n",
    "# Create a copy of the dataframe to avoid the SettingWithCopyWarning\n",
    "facebook_users_copy = facebook_users.copy()\n",
    "\n",
    "# Group the Facebook users by age and gender and count the occurrences\n",
    "facebook_users_copy['AgeGroup'] = pd.cut(facebook_users_copy['Age'], bins=age_bins, labels=age_labels, right=False)\n",
    "age_gender_counts = facebook_users_copy.groupby(['AgeGroup', 'Gender']).size().unstack(fill_value=0)\n",
    "\n",
    "# Plot the bar chart\n",
    "age_gender_counts.plot(kind='bar', figsize=(10, 6))\n",
    "plt.title('Distribution of Facebook Users by Age Group and Gender')\n",
    "plt.xlabel('Age Group')\n",
    "plt.ylabel('Count')\n",
    "plt.xticks(rotation=45)\n",
    "plt.legend(title='Gender')\n",
    "plt.show()\n",
    "plt.savefig('age_gender_distribution.png')"
   ]
  },
  {
   "cell_type": "code",
   "execution_count": null,
   "id": "6f84618a-19ff-436a-a3c0-46d898ed18d0",
   "metadata": {},
   "outputs": [],
   "source": [
    "import matplotlib.pyplot as plt\n",
    "plt.bar(x_values, y_values)\n",
    "plt.xlabel('Age Group')\n",
    "plt.ylabel('Count')\n",
    "plt.title('Distribution of Facebook Users by Age Group and Gender')\n",
    "\n",
    "# Save the visualization as an image\n",
    "plt.savefig('Age_vs_Gender.png')\n",
    "plt.close()"
   ]
  },
  {
   "cell_type": "code",
   "execution_count": null,
   "id": "fb57a9ed",
   "metadata": {},
   "outputs": [],
   "source": [
    "facebook_users.head()\n"
   ]
  },
  {
   "cell_type": "code",
   "execution_count": null,
   "id": "3b7f1334",
   "metadata": {},
   "outputs": [],
   "source": [
    "# Filter Facebook users by gender\n",
    "female_users = facebook_users[facebook_users['Gender'] == 'Female']\n",
    "male_users = facebook_users[facebook_users['Gender'] == 'Male']\n",
    "non_binary_users = facebook_users[facebook_users['Gender'] == 'Non binary ']\n",
    "trans_users = facebook_users[facebook_users['Gender'] == 'Trans']\n",
    "print(\"Number of Female Users:\", len(female_users))\n",
    "print(\"Number of Male Users:\", len(male_users))\n",
    "print(\"Number of Non-binary Users:\", len(non_binary_users))\n",
    "print(\"Number of Trans Users:\", len(trans_users))"
   ]
  },
  {
   "cell_type": "code",
   "execution_count": null,
   "id": "f0839ac0",
   "metadata": {},
   "outputs": [],
   "source": [
    "facebook_users['Gender'].unique()"
   ]
  },
  {
   "cell_type": "markdown",
   "id": "52f7d440",
   "metadata": {},
   "source": [
    "# Gender vs Hours spent on social media platforms"
   ]
  },
  {
   "cell_type": "code",
   "execution_count": null,
   "id": "b5a9caa9",
   "metadata": {},
   "outputs": [],
   "source": [
    "# Plot hours spent on Facebook vs Gender\n",
    "\n",
    "# Filter the original DataFrame for Facebook users\n",
    "facebook_users = df[df['Facebook'] == 1]\n",
    "\n",
    "# Filter Facebook users by gender\n",
    "female_users = facebook_users[facebook_users['Gender'] == 'Female']\n",
    "male_users = facebook_users[facebook_users['Gender'] == 'Male']\n",
    "non_binary_users = facebook_users[facebook_users['Gender'] == 'Non-binary']\n",
    "trans_users = facebook_users[facebook_users['Gender'] == 'Trans']\n",
    "\n",
    "# Plot for female users\n",
    "plt.figure(figsize=(10, 6))\n",
    "female_users[['Less than 2hrs', '2 to 5 hrs', 'More than 5 hrs']].sum().plot(kind='bar', color='pink')\n",
    "plt.title('Hours Spent on Facebook by Female Users')\n",
    "plt.xlabel('Hours Spent Categories')\n",
    "plt.ylabel('Count')\n",
    "plt.xticks(rotation=0)\n",
    "plt.show()\n",
    "\n",
    "# Plot for male users\n",
    "plt.figure(figsize=(10, 6))\n",
    "male_users[['Less than 2hrs', '2 to 5 hrs', 'More than 5 hrs']].sum().plot(kind='bar', color='blue')\n",
    "plt.title('Hours Spent on Facebook by Male Users')\n",
    "plt.xlabel('Hours Spent Categories')\n",
    "plt.ylabel('Count')\n",
    "plt.xticks(rotation=0)\n",
    "plt.show()\n",
    "\n",
    "# Plot for non-binary users\n",
    "plt.figure(figsize=(10, 6))\n",
    "non_binary_users[['Less than 2hrs', '2 to 5 hrs', 'More than 5 hrs']].sum().plot(kind='bar', color='purple')\n",
    "plt.title('Hours Spent on Facebook by Non-binary Users')\n",
    "plt.xlabel('Hours Spent Categories')\n",
    "plt.ylabel('Count')\n",
    "plt.xticks(rotation=0)\n",
    "plt.show()\n",
    "\n",
    "# Plot for trans users\n",
    "plt.figure(figsize=(10, 6))\n",
    "trans_users[['Less than 2hrs', '2 to 5 hrs', 'More than 5 hrs']].sum().plot(kind='bar', color='green')\n",
    "plt.title('Hours Spent on Facebook by Trans Users')\n",
    "plt.xlabel('Hours Spent Categories')\n",
    "plt.ylabel('Count')\n",
    "plt.xticks(rotation=0)\n",
    "plt.show()"
   ]
  },
  {
   "cell_type": "markdown",
   "id": "9560c743",
   "metadata": {},
   "source": [
    "# Hours spent on Facebook vs Age"
   ]
  },
  {
   "cell_type": "code",
   "execution_count": null,
   "id": "ff45736b",
   "metadata": {
    "scrolled": true
   },
   "outputs": [],
   "source": [
    "# Plot hours spent on Facebook vs Age\n",
    "plt.figure(figsize=(10, 6))\n",
    "plt.scatter(df['Age'], df['HoursSpent'])\n",
    "plt.xlabel('Age')\n",
    "plt.ylabel('Hours Spent on Facebook')\n",
    "plt.title('Hours Spent on Facebook by Age')\n",
    "plt.show()"
   ]
  },
  {
   "cell_type": "code",
   "execution_count": null,
   "id": "eee42fad",
   "metadata": {},
   "outputs": [],
   "source": [
    "# Define age groups\n",
    "bins = [0, 18, 25, 35, 45, 55, 65, np.inf]\n",
    "labels = ['Under 18', '18-25', '26-35', '36-45', '46-55', '56-65', 'Over 65']\n",
    "\n",
    "# Apply age groups to the DataFrame\n",
    "df['AgeGroup'] = pd.cut(df['Age'], bins=bins, labels=labels, right=False)\n",
    "\n",
    "# Calculate the sum of hours spent in each category for each age group\n",
    "less_than_2_hours_age_group = df.groupby('AgeGroup')['Less than 2hrs'].sum()\n",
    "between_2_and_5_hours_age_group = df.groupby('AgeGroup')['2 to 5 hrs'].sum()\n",
    "more_than_5_hours_age_group = df.groupby('AgeGroup')['More than 5 hrs'].sum()\n",
    "\n",
    "# Create pie charts for each category\n",
    "plt.figure(figsize=(15, 5))\n",
    "\n",
    "# Pie chart for less than 2 hours\n",
    "plt.subplot(1, 3, 1)\n",
    "plt.pie(less_than_2_hours_age_group, labels=less_than_2_hours_age_group.index, autopct='%1.1f%%', startangle=140)\n",
    "plt.title('Hours Spent on Facebook: Less than 2 hours')\n",
    "\n",
    "# Pie chart for 2 to 5 hours\n",
    "plt.subplot(1, 3, 2)\n",
    "plt.pie(between_2_and_5_hours_age_group, labels=between_2_and_5_hours_age_group.index, autopct='%1.1f%%', startangle=140)\n",
    "plt.title('Hours Spent on Facebook: 2 to 5 hours')\n",
    "\n",
    "# Pie chart for more than 5 hours\n",
    "plt.subplot(1, 3, 3)\n",
    "plt.pie(more_than_5_hours_age_group, labels=more_than_5_hours_age_group.index, autopct='%1.1f%%', startangle=140)\n",
    "plt.title('Hours Spent on Facebook: More than 5 hours')\n",
    "\n",
    "plt.tight_layout()\n",
    "plt.show()"
   ]
  },
  {
   "cell_type": "markdown",
   "id": "a5980533",
   "metadata": {},
   "source": [
    "# Mental Health Scores vs Frequency of social media sites used"
   ]
  },
  {
   "cell_type": "code",
   "execution_count": null,
   "id": "842cffc0",
   "metadata": {},
   "outputs": [],
   "source": [
    "# Analyze Facebook vs Mental Health scores \n",
    "\n",
    "# Define the mental health columns\n",
    "mental_health_columns = ['Distraction', 'Restlessness', 'Anxiety', \n",
    "                         'ConcentrationDifficulty', 'SelfComparision', \n",
    "                         'PostSentiment', 'ValidationSeeking', 'Depression', \n",
    "                         'ActivityInterest Variance', 'Sleeplessness']\n",
    "\n",
    "# Create subplots for each mental health column\n",
    "fig, axes = plt.subplots(len(mental_health_columns), 1, figsize=(10, 5 * len(mental_health_columns)))\n",
    "\n",
    "# Plot each mental health column for Facebook users\n",
    "for i, column in enumerate(mental_health_columns):\n",
    "    ax = axes[i]\n",
    "    ax.hist(facebook_users[column], bins=20, color='skyblue', alpha=0.7)\n",
    "    ax.set_title(f'{column} Distribution for Facebook Users')\n",
    "    ax.set_xlabel(column)\n",
    "    ax.set_ylabel('Frequency')\n",
    "\n",
    "# Adjust layout\n",
    "plt.tight_layout()\n",
    "plt.show()"
   ]
  },
  {
   "cell_type": "markdown",
   "id": "2e72d545",
   "metadata": {},
   "source": [
    "# Age & Gender vs Mental Health scores"
   ]
  },
  {
   "cell_type": "code",
   "execution_count": null,
   "id": "1b627ace",
   "metadata": {
    "scrolled": true
   },
   "outputs": [],
   "source": [
    "# Define the mental health columns\n",
    "mental_health_columns = ['Distraction', 'Restlessness', 'Anxiety', \n",
    "                         'ConcentrationDifficulty', 'SelfComparision', \n",
    "                         'PostSentiment', 'ValidationSeeking', 'Depression', \n",
    "                         'ActivityInterest Variance', 'Sleeplessness']\n",
    "\n",
    "# Create subplots for each mental health column for age\n",
    "fig, axes = plt.subplots(len(mental_health_columns), 1, figsize=(10, 5 * len(mental_health_columns)))\n",
    "\n",
    "# Plot each mental health column for age\n",
    "for i, column in enumerate(mental_health_columns):\n",
    "    ax = axes[i]\n",
    "    ax.scatter(df['Age'], df[column], color='skyblue', alpha=0.7)\n",
    "    ax.set_title(f'{column} vs Age')\n",
    "    ax.set_xlabel('Age')\n",
    "    ax.set_ylabel(column)\n",
    "\n",
    "# Adjust layout\n",
    "plt.tight_layout()\n",
    "plt.show()\n",
    "\n",
    "# Create subplots for each mental health column for gender\n",
    "fig, axes = plt.subplots(len(mental_health_columns), 1, figsize=(10, 5 * len(mental_health_columns)))\n",
    "\n",
    "# Plot each mental health column for gender\n",
    "for i, column in enumerate(mental_health_columns):\n",
    "    ax = axes[i]\n",
    "    for gender in df['Gender'].unique():\n",
    "        ax.scatter(df[df['Gender'] == gender]['Age'], df[df['Gender'] == gender][column], label=gender, alpha=0.7)\n",
    "    ax.set_title(f'{column} vs Age by Gender')\n",
    "    ax.set_xlabel('Age')\n",
    "    ax.set_ylabel(column)\n",
    "    ax.legend()\n",
    "\n",
    "# Adjust layout\n",
    "plt.tight_layout()\n",
    "plt.show()"
   ]
  },
  {
   "cell_type": "markdown",
   "id": "58d9dda1",
   "metadata": {},
   "source": [
    "# TWITTER ANALYSIS"
   ]
  },
  {
   "cell_type": "code",
   "execution_count": null,
   "id": "2deeb5ae",
   "metadata": {},
   "outputs": [],
   "source": []
  },
  {
   "cell_type": "code",
   "execution_count": null,
   "id": "95ee6486",
   "metadata": {},
   "outputs": [],
   "source": [
    "# Filter the original DataFrame for rows where the 'Twitter' column is 1 (indicating Twitter usage)\n",
    "twitter_users = df[df['Twitter'] == 1]\n",
    "\n",
    "# Select only the mental health-related columns along with 'Age' and 'Gender' and 'Frequency'\n",
    "mental_health_columns_twitter = ['Age', 'Gender', 'Frequency', 'Distraction', 'Restlessness', 'Anxiety',\n",
    "       'ConcentrationDifficulty', 'SelfComparision', 'PostSentiment',\n",
    "       'ValidationSeeking', 'Depression', 'ActivityInterest Variance',\n",
    "       'Sleeplessness']\n",
    "\n",
    "# Create a new DataFrame containing only the Twitter users and the selected columns\n",
    "twitter_mental_health = twitter_users[mental_health_columns_twitter]\n",
    "\n",
    "# Display the new DataFrame\n",
    "twitter_mental_health.head()"
   ]
  },
  {
   "cell_type": "markdown",
   "id": "487fd816",
   "metadata": {},
   "source": [
    "# Show the Age/Gender of Twitter Users"
   ]
  },
  {
   "cell_type": "code",
   "execution_count": null,
   "id": "4cf34966",
   "metadata": {},
   "outputs": [],
   "source": [
    "# Define the age categories\n",
    "age_bins = [15, 20, 25, 30, 35, 40, 45, 50, 55, 60, float('inf')]\n",
    "age_labels = ['16-20', '21-25', '26-30', '31-35', '36-40', '41-45', '46-50', '51-55', '56-60', '61+']\n",
    "\n",
    "# Create a copy of the dataframe to avoid the SettingWithCopyWarning\n",
    "twitter_users_copy = twitter_users.copy()\n",
    "\n",
    "# Group the Facebook users by age and gender and count the occurrences\n",
    "twitter_users_copy['AgeGroup'] = pd.cut(twitter_users_copy['Age'], bins=age_bins, labels=age_labels, right=False)\n",
    "age_gender_counts = twitter_users_copy.groupby(['AgeGroup', 'Gender']).size().unstack(fill_value=0)\n",
    "\n",
    "# Plot the bar chart\n",
    "age_gender_counts.plot(kind='bar', figsize=(10, 6))\n",
    "plt.title('Distribution of Facebook Users by Age Group and Gender')\n",
    "plt.xlabel('Age Group')\n",
    "plt.ylabel('Count')\n",
    "plt.xticks(rotation=45)\n",
    "plt.legend(title='Gender')\n",
    "plt.show()"
   ]
  },
  {
   "cell_type": "markdown",
   "id": "6d787276",
   "metadata": {},
   "source": [
    "# Gender vs Hours spent on social media platforms"
   ]
  },
  {
   "cell_type": "code",
   "execution_count": null,
   "id": "7eaf12f3",
   "metadata": {},
   "outputs": [],
   "source": [
    "# Plot hours spent on Twitter vs Gender\n",
    "\n",
    "# Filter the original DataFrame for Twitter users\n",
    "twitter_users = df[df['Twitter'] == 1]\n",
    "\n",
    "# Filter Twitter users by gender\n",
    "female_users = twitter_users[twitter_users['Gender'] == 'Female']\n",
    "male_users = twitter_users[twitter_users['Gender'] == 'Male']\n",
    "non_binary_users = twitter_users[twitter_users['Gender'] == 'Non-binary']\n",
    "trans_users = twitter_users[twitter_users['Gender'] == 'Trans']\n",
    "\n",
    "# Plot for female users\n",
    "plt.figure(figsize=(10, 6))\n",
    "female_users[['Less than 2hrs', '2 to 5 hrs', 'More than 5 hrs']].sum().plot(kind='bar', color='pink')\n",
    "plt.title('Hours Spent on Twitter by Female Users')\n",
    "plt.xlabel('Hours Spent Categories')\n",
    "plt.ylabel('Count')\n",
    "plt.xticks(rotation=0)\n",
    "plt.show()\n",
    "\n",
    "# Plot for male users\n",
    "plt.figure(figsize=(10, 6))\n",
    "male_users[['Less than 2hrs', '2 to 5 hrs', 'More than 5 hrs']].sum().plot(kind='bar', color='blue')\n",
    "plt.title('Hours Spent on Twitter by Male Users')\n",
    "plt.xlabel('Hours Spent Categories')\n",
    "plt.ylabel('Count')\n",
    "plt.xticks(rotation=0)\n",
    "plt.show()\n",
    "\n",
    "# Plot for non-binary users\n",
    "plt.figure(figsize=(10, 6))\n",
    "non_binary_users[['Less than 2hrs', '2 to 5 hrs', 'More than 5 hrs']].sum().plot(kind='bar', color='purple')\n",
    "plt.title('Hours Spent on Twitter by Non-binary Users')\n",
    "plt.xlabel('Hours Spent Categories')\n",
    "plt.ylabel('Count')\n",
    "plt.xticks(rotation=0)\n",
    "plt.show()\n",
    "\n",
    "# Plot for trans users\n",
    "plt.figure(figsize=(10, 6))\n",
    "trans_users[['Less than 2hrs', '2 to 5 hrs', 'More than 5 hrs']].sum().plot(kind='bar', color='green')\n",
    "plt.title('Hours Spent on Twitter by Trans Users')\n",
    "plt.xlabel('Hours Spent Categories')\n",
    "plt.ylabel('Count')\n",
    "plt.xticks(rotation=0)\n",
    "plt.show()"
   ]
  },
  {
   "cell_type": "code",
   "execution_count": null,
   "id": "c64020ba",
   "metadata": {},
   "outputs": [],
   "source": []
  }
 ],
 "metadata": {
  "kernelspec": {
   "display_name": "Python 3 (ipykernel)",
   "language": "python",
   "name": "python3"
  },
  "language_info": {
   "codemirror_mode": {
    "name": "ipython",
    "version": 3
   },
   "file_extension": ".py",
   "mimetype": "text/x-python",
   "name": "python",
   "nbconvert_exporter": "python",
   "pygments_lexer": "ipython3",
   "version": "3.11.5"
  }
 },
 "nbformat": 4,
 "nbformat_minor": 5
}
